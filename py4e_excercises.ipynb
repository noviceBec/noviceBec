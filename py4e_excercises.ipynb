{
  "nbformat": 4,
  "nbformat_minor": 0,
  "metadata": {
    "colab": {
      "name": "py4e_excercises.ipynb",
      "provenance": [],
      "collapsed_sections": [],
      "authorship_tag": "ABX9TyPmYEPqIAVOj6NNTPpIga5q",
      "include_colab_link": true
    },
    "kernelspec": {
      "name": "python3",
      "display_name": "Python 3"
    },
    "language_info": {
      "name": "python"
    }
  },
  "cells": [
    {
      "cell_type": "markdown",
      "metadata": {
        "id": "view-in-github",
        "colab_type": "text"
      },
      "source": [
        "<a href=\"https://colab.research.google.com/github/noviceBec/noviceBec/blob/main/py4e_excercises.ipynb\" target=\"_parent\"><img src=\"https://colab.research.google.com/assets/colab-badge.svg\" alt=\"Open In Colab\"/></a>"
      ]
    },
    {
      "cell_type": "code",
      "execution_count": 33,
      "metadata": {
        "colab": {
          "base_uri": "https://localhost:8080/"
        },
        "id": "RpR39ap0P70E",
        "outputId": "e8a8858f-610b-44f1-8ffa-9cc088b920a1"
      },
      "outputs": [
        {
          "output_type": "stream",
          "name": "stdout",
          "text": [
            "Enter your name?\n",
            "Beccy\n",
            "Hello Beccy\n"
          ]
        }
      ],
      "source": [
        " #Exercise2: Write a program that uses input to prompt a user for their name and \n",
        " #then welcomes them.\n",
        " #the sequence \\n at the end or the prompt represents a newline\n",
        "\n",
        "name = input('Enter your name?\\n')\n",
        "print('Hello', name)"
      ]
    },
    {
      "cell_type": "code",
      "source": [
        "#Exercise3: Write a program to prompt the user for hours and rate per hour to \n",
        "#compute gross pay.\n",
        "\n",
        "print('Input hours worked and press <Enter>')\n",
        "hours = input('Enter Hours:\\n')\n",
        "print(type(hours))\n",
        "print('Input Rate per hour and press <Enter>')\n",
        "rate = input('Enter Rate:\\n')\n",
        "print(type(rate))\n",
        "pay = int(hours) * float(rate)\n",
        "print('Pay:',pay)\n",
        "print(type(pay))"
      ],
      "metadata": {
        "colab": {
          "base_uri": "https://localhost:8080/"
        },
        "id": "vwBiwBdBR3eo",
        "outputId": "d71e799b-f8f0-457d-ae29-b4243f450e8f"
      },
      "execution_count": 40,
      "outputs": [
        {
          "output_type": "stream",
          "name": "stdout",
          "text": [
            "Input hours worked and press <Enter>\n",
            "Enter Hours:\n",
            "35\n",
            "<class 'str'>\n",
            "Input Rate per hour and press <Enter>\n",
            "Enter Rate:\n",
            "2.75\n",
            "<class 'str'>\n",
            "Pay: 96.25\n",
            "<class 'float'>\n"
          ]
        }
      ]
    },
    {
      "cell_type": "code",
      "source": [
        "#Exercise4: Assume that we execute the following assignment statements:\n",
        "width = 17\n",
        "height = 12.0\n",
        "\n",
        "#For each of the following expressions, write the value of the expression and\n",
        "# the type (of the value of the expression)\n",
        "\n",
        "#1. width//2\n",
        "print(width//2)\n",
        "print(type(width))\n",
        "\n",
        "#2. width/2.0\n",
        "print(width/2.0)\n",
        "print(type(width))\n",
        "\n",
        "#3. height//3\n",
        "print(height//3)\n",
        "print(type(height))\n",
        "\n",
        "#4. 1 + 2 * 5\n",
        "exp = 1 + 2 * 5\n",
        "print(exp)\n",
        "print(type(exp))\n"
      ],
      "metadata": {
        "colab": {
          "base_uri": "https://localhost:8080/"
        },
        "id": "w4Zt4l72hfBn",
        "outputId": "4b34f0c6-299c-4026-a27c-db64ef9e7d1c"
      },
      "execution_count": 26,
      "outputs": [
        {
          "output_type": "stream",
          "name": "stdout",
          "text": [
            "8\n",
            "<class 'int'>\n",
            "8.5\n",
            "<class 'int'>\n",
            "4.0\n",
            "<class 'float'>\n",
            "11\n",
            "<class 'int'>\n"
          ]
        }
      ]
    },
    {
      "cell_type": "code",
      "source": [
        "#Exercise 5: Write a program which prompts the user for a Celsius temperature,\n",
        "# convert the temperature to Fahrenheit, and print out the converted temperature.\n",
        "\n",
        "celsius = input('What is the Celsius temperature?\\n')\n",
        "Fahrenheit = 9/5 * int(celsius) + 32\n",
        "print('The temperature is',Fahrenheit,'degrees Fahrenheit')"
      ],
      "metadata": {
        "colab": {
          "base_uri": "https://localhost:8080/"
        },
        "id": "YMtUNrbBko4f",
        "outputId": "f106e371-f7b8-4933-b993-4591a4ffc7f1"
      },
      "execution_count": 36,
      "outputs": [
        {
          "output_type": "stream",
          "name": "stdout",
          "text": [
            "What is the Celsius temperature?\n",
            "20\n",
            "The temperature is 68.0 degrees Fahrenheit\n"
          ]
        }
      ]
    },
    {
      "cell_type": "code",
      "source": [
        "print(type(98.6))\n",
        "print(\"123\"+\"abc\")\n",
        "x = 3\n",
        "print(x + 2)\n",
        "print(42 % 10)"
      ],
      "metadata": {
        "colab": {
          "base_uri": "https://localhost:8080/"
        },
        "id": "i9Ki4rLBsoS8",
        "outputId": "c238aeb3-e24d-4ca9-a351-6bf2cc32e531"
      },
      "execution_count": 45,
      "outputs": [
        {
          "output_type": "stream",
          "name": "stdout",
          "text": [
            "<class 'float'>\n",
            "123abc\n",
            "5\n",
            "2\n"
          ]
        }
      ]
    },
    {
      "cell_type": "code",
      "source": [
        "print(1 + 2 * 3 - 8 /4)"
      ],
      "metadata": {
        "colab": {
          "base_uri": "https://localhost:8080/"
        },
        "id": "B6NoqQ6OvG4d",
        "outputId": "53ec31b6-0297-42f9-b1c1-79765137cf68"
      },
      "execution_count": 46,
      "outputs": [
        {
          "output_type": "stream",
          "name": "stdout",
          "text": [
            "5.0\n"
          ]
        }
      ]
    },
    {
      "cell_type": "code",
      "source": [
        "x = int(98.6)\n",
        "print(x)\n",
        "print(type(x))"
      ],
      "metadata": {
        "colab": {
          "base_uri": "https://localhost:8080/"
        },
        "id": "h8-3nQ5rvVkA",
        "outputId": "7dce845c-8a12-4766-9183-6c749cec5cf2"
      },
      "execution_count": 47,
      "outputs": [
        {
          "output_type": "stream",
          "name": "stdout",
          "text": [
            "98\n",
            "<class 'int'>\n"
          ]
        }
      ]
    },
    {
      "cell_type": "code",
      "source": [
        "hrs=input('Enter hours:')\n",
        "trf=input('Enter rate:')\n",
        "vlr=float(hrs)*float(trf)\n",
        "print('Payment:',vlr)"
      ],
      "metadata": {
        "colab": {
          "base_uri": "https://localhost:8080/"
        },
        "id": "MdPOw-lCwLjw",
        "outputId": "bca00520-ada8-462f-a983-7a85c43dab40"
      },
      "execution_count": 49,
      "outputs": [
        {
          "output_type": "stream",
          "name": "stdout",
          "text": [
            "Enter hours:35\n",
            "Enter rate:2.75\n",
            "Payment: 96.25\n"
          ]
        }
      ]
    },
    {
      "cell_type": "code",
      "source": [
        "hrs=input('Enter hours:')\n",
        "trf=input('Enter rate:')\n",
        "vlr=int(hrs)*float(trf)\n",
        "print('Payment:',vlr)"
      ],
      "metadata": {
        "colab": {
          "base_uri": "https://localhost:8080/"
        },
        "id": "gE-Q_8Ckw42o",
        "outputId": "b18b00cc-4d80-441e-cc4d-fefb795578c9"
      },
      "execution_count": 50,
      "outputs": [
        {
          "output_type": "stream",
          "name": "stdout",
          "text": [
            "Enter hours:35\n",
            "Enter rate:2.75\n",
            "Payment: 96.25\n"
          ]
        }
      ]
    }
  ]
}